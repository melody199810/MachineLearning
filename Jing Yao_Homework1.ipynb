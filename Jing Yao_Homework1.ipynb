{
  "nbformat": 4,
  "nbformat_minor": 0,
  "metadata": {
    "colab": {
      "name": "Copy of Homework1.ipynb",
      "provenance": [],
      "collapsed_sections": []
    },
    "kernelspec": {
      "display_name": "Python 3",
      "name": "python3"
    }
  },
  "cells": [
    {
      "cell_type": "markdown",
      "metadata": {
        "id": "hm8RAKinXsIP"
      },
      "source": [
        "## **Homework 1**\n",
        "\n",
        "### Create a copy of the notebook to start answering the questions. Name your notebook in the format HW1_lastname_firstname.ipynb to facilitate the grading process. \n",
        "\n",
        "### Answer all the questions, test your code to ensure there are no errors and the results are as expected. Once you have answered all the questions, save the final copy, then go to File-> click on Download.ipynb. Once the local copy has been downloaded, submit your file on Blackboard under the corresponding assignment section. Also provide us a link to your notebook during submission. \n",
        "\n",
        "### **The due date of this homework is 02/05/2021 (Friday).**\n",
        "\n",
        "### Please ensure you follow all the steps mentioned in the homework.\n",
        "\n",
        "### All the questions have a sample input and output to help you understand the question. Please note that your programs will be tested for other sets of inputs and outputs along with the sample provided. So test your code for other inputs.\n",
        "\n",
        "### You can submit your solutions any number of times until the deadline.\n"
      ]
    },
    {
      "cell_type": "markdown",
      "metadata": {
        "id": "EUjmpZLaQ102"
      },
      "source": [
        ""
      ]
    },
    {
      "cell_type": "markdown",
      "metadata": {
        "id": "uacFrEaZfcfq"
      },
      "source": [
        "##### Q1. Write a program that prompts the user to enter a password then prints the length of the password.\n",
        "\n",
        "```\n",
        "Enter your password: hello\n",
        "Your password is 5 long.\n",
        "```\n",
        "\n",
        "\n"
      ]
    },
    {
      "cell_type": "code",
      "metadata": {
        "colab": {
          "base_uri": "https://localhost:8080/"
        },
        "id": "avPyES14ftCt",
        "outputId": "21f2c37b-53a4-4c86-f76c-2d8a470e33d7"
      },
      "source": [
        "# Type solution here\n",
        "password = str(input(\"Enter your password: \"))\n",
        "length = len(password)\n",
        "print(\"Your password is \" + str(length) + \" long.\")"
      ],
      "execution_count": null,
      "outputs": [
        {
          "output_type": "stream",
          "text": [
            "Enter your password: vvvv\n",
            "Your password is 4 long.\n"
          ],
          "name": "stdout"
        }
      ]
    },
    {
      "cell_type": "markdown",
      "metadata": {
        "id": "ekh-kABuItli"
      },
      "source": [
        ""
      ]
    },
    {
      "cell_type": "markdown",
      "metadata": {
        "id": "K1yko-xUItU3"
      },
      "source": [
        ""
      ]
    },
    {
      "cell_type": "markdown",
      "metadata": {
        "id": "behD0j_Of2TW"
      },
      "source": [
        "##### Q2. Write a program that prompts the user to enter their full name then prints the number of characters in their name (do not count spaces).\n",
        "\n",
        "```\n",
        "What is your name? Amulya Katti\n",
        "Amulya Katti your name has 11 characters.\n",
        "```"
      ]
    },
    {
      "cell_type": "code",
      "metadata": {
        "colab": {
          "base_uri": "https://localhost:8080/"
        },
        "id": "XSdIRjwlhSlu",
        "outputId": "deaf714e-65cc-4325-8021-4a7d20e13947"
      },
      "source": [
        "# Type solution here\n",
        "name = input(\"What is your name? \")\n",
        "length = len(name) - name.count(' ')\n",
        "\n",
        "print(name, \"your name has\", str(length), \"characters.\")"
      ],
      "execution_count": null,
      "outputs": [
        {
          "output_type": "stream",
          "text": [
            "What is your name? mel yao\n",
            "mel yao your name has 6 characters.\n"
          ],
          "name": "stdout"
        }
      ]
    },
    {
      "cell_type": "markdown",
      "metadata": {
        "id": "5KHOWF6FhVHV"
      },
      "source": [
        "##### Q3. Write a program that prompts the user to enter a month (as a number), then prints the name of the month and the number of days in that month. Ensure that the user inputs a valid month and handle any error cases.\n",
        "\n",
        "```\n",
        "Enter the month number: 9\n",
        "September has 30 days\n",
        "```"
      ]
    },
    {
      "cell_type": "code",
      "metadata": {
        "colab": {
          "base_uri": "https://localhost:8080/"
        },
        "id": "KhS-SAEThyTG",
        "outputId": "723bbc1c-83f5-4e37-f0a3-dd5c64f4b022"
      },
      "source": [
        "month_num = input(\"Enter the month number: \")\n",
        "month_days = 0\n",
        "year = {'1':\"January\",'2':\"Feburary\",'3':\"March\", '4':\"April\",'5':\"May\", '6':\"June\", '7':\"July\",'8':\"August\",'9':\"September\",'10':\"October\",\n",
        "        '11':\"November\",'12':\"December\"}\n",
        "\n",
        "while int(month_num) not in range(0,13):\n",
        "  month_num = input(\"Enter the month number: \")\n",
        "\n",
        "\n",
        "if month_num == 2:\n",
        "  month_days = 28\n",
        "else:\n",
        "  if int(month_num) < 8:\n",
        "    if int(month_num) % 2 == 0:\n",
        "      month_days = 30\n",
        "    else:\n",
        "      month_days = 31\n",
        "  else:\n",
        "    if int(month_num) % 2 == 0:\n",
        "      month_days = 31\n",
        "    else:\n",
        "      month_days = 30\n",
        "\n",
        "\n",
        "print(year[month_num], \"has\", month_days, \"days\")\n",
        "\n",
        "\n",
        "\n",
        "\n",
        "\n",
        "\n"
      ],
      "execution_count": null,
      "outputs": [
        {
          "output_type": "stream",
          "text": [
            "Enter the month number: 100\n",
            "Enter the month number: 18\n",
            "Enter the month number: 7\n",
            "July has 31 days\n"
          ],
          "name": "stdout"
        }
      ]
    },
    {
      "cell_type": "markdown",
      "metadata": {
        "id": "O7lnAdGlh6Xa"
      },
      "source": [
        "##### Q4. Write a program that prompts the user to enter a loan amount, annual interest rate, and number of years  for a car loan. Then calculate and print the monthly payment amount.\n",
        "\n",
        "Note:\n",
        "```\n",
        "PMT= [PV*i*((1+i)^n)]/[((1+i)^n)-1]\n",
        "```\n",
        "PMT is the monthly payment\n",
        "\n",
        "PV is the loan amount\n",
        "\n",
        "i is the interest rate per month in decimal form (interest rate percentage divided by 12)\n",
        "\n",
        "n is the number of months (term of the loan in months)\n",
        "\n",
        "```\n",
        "Loan Amount: 30000.00\n",
        "Annual Interest Rate: 4.00\n",
        "Years: 5\n",
        "Your monthly payment is: $552.50\n",
        "```"
      ]
    },
    {
      "cell_type": "code",
      "metadata": {
        "colab": {
          "base_uri": "https://localhost:8080/"
        },
        "id": "p4B5JH5GiTs9",
        "outputId": "852c96f1-b989-4d5b-a890-6061bb480bc3"
      },
      "source": [
        "# Type solution here\n",
        "PV = int(input(\"Loan Amount: \"))\n",
        "i = (float(input(\"Annual Interest Rate: \"))/1200)\n",
        "n = (int(input(\"Years: \")) *12)\n",
        "\n",
        "PMT = (PV * i * (float(1 + i) ** n))/((float(1 + i) ** n) - 1)\n",
        "PMT = round(PMT, 2)\n",
        "print (PMT)"
      ],
      "execution_count": null,
      "outputs": [
        {
          "output_type": "stream",
          "text": [
            "Loan Amount: 30000\n",
            "Annual Interest Rate: 4\n",
            "Years: 5\n",
            "0.0033333333333333335\n",
            "60\n",
            "552.5\n"
          ],
          "name": "stdout"
        }
      ]
    },
    {
      "cell_type": "markdown",
      "metadata": {
        "id": "SjiolJKgiWV-"
      },
      "source": [
        "##### Q5. Write a program to that prompts the user to enter a string. Then check whether or not the string is a palindrome.\n",
        "\n",
        "```\n",
        "Enter a string: Madam\n",
        "Madam, is a palindrome!\n",
        "```"
      ]
    },
    {
      "cell_type": "code",
      "metadata": {
        "colab": {
          "base_uri": "https://localhost:8080/"
        },
        "id": "F5_M934Ri0es",
        "outputId": "aed9c5fc-25cb-4583-b025-76b2b407fae9"
      },
      "source": [
        "# Type solution here\n",
        "word = input(\"Enter a string: \")\n",
        "length = len(word)\n",
        "#print(length)\n",
        "\n",
        "#print(word[:])\n",
        "for i in word:\n",
        "  if i == word[length-1]:\n",
        "    ans = True\n",
        "  else:\n",
        "    ans = False\n",
        "  length = length -1\n",
        "\n",
        "if ans == True:\n",
        "  print(word, \"is a palindrome!\")\n",
        "\n",
        "  "
      ],
      "execution_count": null,
      "outputs": [
        {
          "output_type": "stream",
          "text": [
            "Enter a string: abcddcba\n",
            "abcddcba is a palindrome!\n"
          ],
          "name": "stdout"
        }
      ]
    },
    {
      "cell_type": "markdown",
      "metadata": {
        "id": "BLBD6n9vkJEu"
      },
      "source": [
        "##### Q6. Write a program to compute and print all possible combinations of change for \\$1. Denominations to be considered – quarter, dime, nickel, penny.\n",
        "\n",
        "Hint: Use nested loops (loops within loops for the various denominations of coins)\n",
        "\n",
        "```\n",
        "Change for $1:\n",
        "0 quarters, 0 dimes, 0 nickels, 100 pennies\n",
        "…\n",
        "4 quarters, 0 dimes, 0 nickels, 0 pennies\n",
        "```"
      ]
    },
    {
      "cell_type": "code",
      "metadata": {
        "id": "kAQsTjwDkZZ5"
      },
      "source": [
        "# Type solution here\n",
        "print(\"Change for $1:\\n\")\n",
        "\n",
        "num_q = 0\n",
        "num_d = 0\n",
        "num_n = 0\n",
        "num_p = 0\n",
        "\n",
        "for num_p in range(101):\n",
        "\n",
        "  for num_n in range(21):\n",
        "\n",
        "    for num_d in range(11):\n",
        "\n",
        "      for num_q in range(5):\n",
        "        if 1*num_p + 5*num_n + 10*num_d + 25*num_q == 100:\n",
        "          print(num_q, \"quarters,\", num_d, \"dimes, \", num_n, 'nickels, ', num_p, \"pennies\")\n",
        "  \n",
        "\n"
      ],
      "execution_count": null,
      "outputs": []
    },
    {
      "cell_type": "markdown",
      "metadata": {
        "id": "rUPDjYiIkbgs"
      },
      "source": [
        "##### Q7. Ask the user to enter two positive integers between 1 and 100. Read those integers. Then output a multiplication table of the first number times the second number. \n",
        "\n",
        "Note: You have to ensure the entered numbers are between 1 and 100 only.\n",
        "\n",
        "```\n",
        "Please enter an integer: 5\n",
        "Please enter another integer: 20\n",
        "5 x 1 = 5\n",
        "5 x 2 = 10\n",
        "5 x 3 = 15\n",
        "…\n",
        "5 x 20 = 100\n",
        "```"
      ]
    },
    {
      "cell_type": "code",
      "metadata": {
        "id": "Qg0Orv1klHzA"
      },
      "source": [
        "# Type solution here\n",
        "num1 = int(input(\"Please enter an integer: \"))\n",
        "num2 = int(input(\"Please enter another integer: \"))\n",
        "\n",
        "while num1 not in range(1,101) or num2 not in range(1,101):\n",
        "  print(\"Please enter an integer between 1 and 100 only.\")\n",
        "  num1 = input(\"Please enter an integer: \")\n",
        "  num2 = input(\"Please enter another integer: \")\n",
        "\n",
        "for i in range(1,int(num2)+1):\n",
        "  result = num1 * i\n",
        "  print(num1, \"x\", i, \"=\", result)\n"
      ],
      "execution_count": null,
      "outputs": []
    },
    {
      "cell_type": "markdown",
      "metadata": {
        "id": "SbnbPUPTlLD9"
      },
      "source": [
        "##### Q8. Write a program to ask the user to enter a password. Then check to see if it is a valid password based on these requirements -\n",
        "\n",
        "Must be at least 8 characters long\n",
        "\n",
        "Must contain both uppercase and lowercase letters\n",
        "\n",
        "Must contain at least one number between 0-9\n",
        "\n",
        "Must contain a special character -!,@,#,$\n",
        "\n",
        "If the password is not valid, ask the user to re-enter. This should continue until the user enters a valid password. After a valid password is entered, print Access Granted!\n",
        "\n",
        "```\n",
        "Please enter a password. Follow these requirements - \n",
        "a. Must be at least 8 characters long\n",
        "b. Must contain both uppercase and lowercase letters\n",
        "c. Must contain at least one number between 0-9\n",
        "d. Must contain a special character -!,@,#,$\n",
        "Password: HelloWorld1\n",
        "Invalid password. Try again!\n",
        "Password: Hello@World1\n",
        "Access Granted!\n",
        "```\n"
      ]
    },
    {
      "cell_type": "code",
      "metadata": {
        "colab": {
          "base_uri": "https://localhost:8080/"
        },
        "id": "OXmZ177Rl-RV",
        "outputId": "864433ab-eca8-40df-c3c8-a02fb2754fac"
      },
      "source": [
        "# Type solution here\n",
        "import string\n",
        "\n",
        "part_a = False\n",
        "part_b = False\n",
        "part_c = False\n",
        "part_d = False\n",
        "result = False\n",
        "lower = 0\n",
        "numbers = 0\n",
        "characters = 0\n",
        "\n",
        "while result == False: \n",
        "  password = input(\"Please enter a password. Follow these requirements -\\n a. Must be at least 8 characters long\\nb. Must contain both uppercase and lowercase letters\\nc. Must contain at least one number between 0-9\\nd. Must contain a special character -!,@,#,$\\n\")\n",
        "\n",
        "#a\n",
        "  if len(password) != 8:\n",
        "    part_a = True\n",
        "   \n",
        "\n",
        "#b & c & d\n",
        "  for i in password:\n",
        "    if i.islower() == True:\n",
        "      part_b = True\n",
        "    if i.isdigit() == True:\n",
        "      part_c = True\n",
        "    if i in string.punctuation:\n",
        "      part_d = True\n",
        "\n",
        "#when password fulfills all requirements, the while loop breaks  \n",
        "  if part_a == part_b == part_c == part_d == True:\n",
        "    result = True\n",
        "    print(\"Access Granted!\")\n",
        "\n"
      ],
      "execution_count": 79,
      "outputs": [
        {
          "output_type": "stream",
          "text": [
            "Please enter a password. Follow these requirements -\n",
            " a. Must be at least 8 characters long\n",
            "b. Must contain both uppercase and lowercase letters\n",
            "c. Must contain at least one number between 0-9\n",
            "d. Must contain a special character -!,@,#,$\n",
            "jljljfljlW!2ljmll\n",
            "Access Granted!\n"
          ],
          "name": "stdout"
        }
      ]
    },
    {
      "cell_type": "markdown",
      "metadata": {
        "id": "-0sdutTDnTKA"
      },
      "source": [
        "##### Q9. Given the score sheet of participants in a competition, you are required to find the runner-up score. You are given scores in a list. Find the score of the runner-up.\n",
        "\n",
        "```\n",
        "list1 - [2, 3, 6, 6, 5]\n",
        "runner_up - 5\n",
        "\n",
        "list2 - [1, 7, 5, 3, 10, 4, 5, 5, 6, 11]\n",
        "runner_up - 10\n",
        "```"
      ]
    },
    {
      "cell_type": "code",
      "metadata": {
        "colab": {
          "base_uri": "https://localhost:8080/"
        },
        "id": "7pM3vygTEkG4",
        "outputId": "0772c911-697c-4f1a-a1fc-9dc1e8ed44e5"
      },
      "source": [
        "list1 = [2, 3, 6, 6, 5]\n",
        "list2 = [1, 7, 5, 3, 10, 4, 5, 5, 6, 11]\n",
        "runnerup1 = 0\n",
        "runnerup2 = 0\n",
        "newlist1 = []\n",
        "newlist2 = []\n",
        "\n",
        "#remove duplicates in original lists\n",
        "for i in range(0,5):\n",
        "  if list1[i] not in newlist1:\n",
        "    newlist1.append(list1[i])\n",
        "\n",
        "for i in range(0,len(list2)):\n",
        "  if list2[i] not in newlist2:\n",
        "    newlist2.append(list2[i])\n",
        "\n",
        "#order the new lists w/o duplicates\n",
        "newlist1.sort()\n",
        "newlist2.sort()\n",
        "\n",
        "#use indexing to find runnerup score\n",
        "print(list1)\n",
        "print(\"runnerup - \", newlist1[-2], \"\\n\")\n",
        "\n",
        "print(list2)\n",
        "print(\"runnerup - \", newlist2[-2])"
      ],
      "execution_count": 78,
      "outputs": [
        {
          "output_type": "stream",
          "text": [
            "[2, 3, 6, 6, 5]\n",
            "runnerup -  5 \n",
            "\n",
            "[1, 7, 5, 3, 10, 4, 5, 5, 6, 11]\n",
            "runnerup -  10\n"
          ],
          "name": "stdout"
        }
      ]
    }
  ]
}